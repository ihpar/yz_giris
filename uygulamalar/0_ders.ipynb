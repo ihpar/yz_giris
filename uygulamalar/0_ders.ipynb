{
  "cells": [
    {
      "cell_type": "code",
      "execution_count": 1,
      "metadata": {
        "colab": {
          "base_uri": "https://localhost:8080/"
        },
        "id": "36Mlkwfc1gHu",
        "outputId": "7187efe5-af3d-42b7-bab0-d97f0f879098"
      },
      "outputs": [
        {
          "name": "stdout",
          "output_type": "stream",
          "text": [
            "8 5\n"
          ]
        }
      ],
      "source": [
        "sayi = 5\n",
        "ikinci_sayi = 3\n",
        "toplam = sayi + ikinci_sayi\n",
        "\n",
        "print(toplam, sayi)"
      ]
    },
    {
      "cell_type": "code",
      "execution_count": 2,
      "metadata": {
        "colab": {
          "base_uri": "https://localhost:8080/"
        },
        "id": "APSDa4H32kDQ",
        "outputId": "9a1b846c-5f6d-413e-fe75-938148829b25"
      },
      "outputs": [
        {
          "data": {
            "text/plain": [
              "5"
            ]
          },
          "execution_count": 2,
          "metadata": {},
          "output_type": "execute_result"
        }
      ],
      "source": [
        "1 + 4"
      ]
    },
    {
      "cell_type": "code",
      "execution_count": 3,
      "metadata": {
        "colab": {
          "base_uri": "https://localhost:8080/"
        },
        "id": "gwrOloOX2tQS",
        "outputId": "3347dea2-e3c2-4a9c-c348-d57445d1d682"
      },
      "outputs": [
        {
          "data": {
            "text/plain": [
              "2"
            ]
          },
          "execution_count": 3,
          "metadata": {},
          "output_type": "execute_result"
        }
      ],
      "source": [
        "4 - 2"
      ]
    },
    {
      "cell_type": "code",
      "execution_count": 4,
      "metadata": {
        "colab": {
          "base_uri": "https://localhost:8080/"
        },
        "id": "_aYMN-zj2wvU",
        "outputId": "a3d1f64d-33f4-4257-b5d3-b044d45aba4e"
      },
      "outputs": [
        {
          "data": {
            "text/plain": [
              "15"
            ]
          },
          "execution_count": 4,
          "metadata": {},
          "output_type": "execute_result"
        }
      ],
      "source": [
        "3 * 5"
      ]
    },
    {
      "cell_type": "code",
      "execution_count": 5,
      "metadata": {
        "colab": {
          "base_uri": "https://localhost:8080/"
        },
        "id": "kPzrPdpo2yuT",
        "outputId": "1b0d347e-3b33-4473-bc01-01f5bf6b2527"
      },
      "outputs": [
        {
          "data": {
            "text/plain": [
              "3.75"
            ]
          },
          "execution_count": 5,
          "metadata": {},
          "output_type": "execute_result"
        }
      ],
      "source": [
        "15 / 4"
      ]
    },
    {
      "cell_type": "code",
      "execution_count": 6,
      "metadata": {
        "colab": {
          "base_uri": "https://localhost:8080/"
        },
        "id": "1xqszm6j20Pn",
        "outputId": "c7b28400-6bdd-4eac-c56e-9963c53cbe43"
      },
      "outputs": [
        {
          "data": {
            "text/plain": [
              "8"
            ]
          },
          "execution_count": 6,
          "metadata": {},
          "output_type": "execute_result"
        }
      ],
      "source": [
        "2 ** 3"
      ]
    },
    {
      "cell_type": "code",
      "execution_count": 7,
      "metadata": {
        "colab": {
          "base_uri": "https://localhost:8080/"
        },
        "id": "AqkgVHHP3Dp3",
        "outputId": "2c26ddbd-8749-469b-b640-d950a301bcb6"
      },
      "outputs": [
        {
          "data": {
            "text/plain": [
              "3"
            ]
          },
          "execution_count": 7,
          "metadata": {},
          "output_type": "execute_result"
        }
      ],
      "source": [
        "15 // 4"
      ]
    },
    {
      "cell_type": "code",
      "execution_count": 8,
      "metadata": {
        "colab": {
          "base_uri": "https://localhost:8080/"
        },
        "id": "-czf_GAD3zcT",
        "outputId": "094cdbcb-cca4-442b-8446-66c970994f24"
      },
      "outputs": [
        {
          "data": {
            "text/plain": [
              "3"
            ]
          },
          "execution_count": 8,
          "metadata": {},
          "output_type": "execute_result"
        }
      ],
      "source": [
        "15 % 4"
      ]
    },
    {
      "cell_type": "code",
      "execution_count": 9,
      "metadata": {
        "colab": {
          "base_uri": "https://localhost:8080/"
        },
        "id": "ZF9tXpkV34sT",
        "outputId": "5f0ea069-14d1-4827-c32b-1ae4ef43c7af"
      },
      "outputs": [
        {
          "name": "stdout",
          "output_type": "stream",
          "text": [
            "naber? ismail\n"
          ]
        }
      ],
      "source": [
        "isim = \"ismail\"\n",
        "print(\"naber?\", isim)"
      ]
    },
    {
      "cell_type": "code",
      "execution_count": 10,
      "metadata": {
        "colab": {
          "base_uri": "https://localhost:8080/"
        },
        "id": "XtblOfSH4KG_",
        "outputId": "db6fc89c-55bc-46af-aeda-627c2182e781"
      },
      "outputs": [
        {
          "name": "stdout",
          "output_type": "stream",
          "text": [
            "False\n",
            "True\n",
            "False\n"
          ]
        }
      ],
      "source": [
        "print(True and False)\n",
        "print(True or False)\n",
        "print(not True)"
      ]
    },
    {
      "cell_type": "code",
      "execution_count": 11,
      "metadata": {
        "colab": {
          "base_uri": "https://localhost:8080/"
        },
        "id": "CWvIXbf04zFW",
        "outputId": "f114227b-beba-423c-e684-9fefb69ec082"
      },
      "outputs": [
        {
          "name": "stdout",
          "output_type": "stream",
          "text": [
            "True\n"
          ]
        }
      ],
      "source": [
        "print(3 < 5)"
      ]
    },
    {
      "cell_type": "code",
      "execution_count": 12,
      "metadata": {
        "colab": {
          "base_uri": "https://localhost:8080/"
        },
        "id": "Y6p85Zq34-lA",
        "outputId": "4bcf6ebe-2f67-4ca8-cef4-408cf709136c"
      },
      "outputs": [
        {
          "name": "stdout",
          "output_type": "stream",
          "text": [
            "False\n"
          ]
        }
      ],
      "source": [
        "print(3 > 5)"
      ]
    },
    {
      "cell_type": "code",
      "execution_count": 13,
      "metadata": {
        "colab": {
          "base_uri": "https://localhost:8080/"
        },
        "id": "mwj7rDiH5BFD",
        "outputId": "c1988f20-127a-4cda-dc11-04349f07ea52"
      },
      "outputs": [
        {
          "name": "stdout",
          "output_type": "stream",
          "text": [
            "True\n"
          ]
        }
      ],
      "source": [
        "print(5 == 5)"
      ]
    },
    {
      "cell_type": "code",
      "execution_count": 14,
      "metadata": {
        "colab": {
          "base_uri": "https://localhost:8080/"
        },
        "id": "SmV9rZ-a5Mis",
        "outputId": "c1e8b16a-7db2-4c27-c304-73eed5f27756"
      },
      "outputs": [
        {
          "name": "stdout",
          "output_type": "stream",
          "text": [
            "True\n"
          ]
        }
      ],
      "source": [
        "print(4 <= 4)"
      ]
    },
    {
      "cell_type": "code",
      "execution_count": 15,
      "metadata": {
        "colab": {
          "base_uri": "https://localhost:8080/"
        },
        "id": "Xc_BXS_Q5QQr",
        "outputId": "affae3bd-b53c-4d7c-baed-17aef06207ef"
      },
      "outputs": [
        {
          "name": "stdout",
          "output_type": "stream",
          "text": [
            "False\n"
          ]
        }
      ],
      "source": [
        "print(5 >= 6)"
      ]
    },
    {
      "cell_type": "code",
      "execution_count": 16,
      "metadata": {
        "colab": {
          "base_uri": "https://localhost:8080/"
        },
        "id": "q5im7IXN5TVv",
        "outputId": "6d2f1094-4965-4e6b-a0e5-5d4a348c57fb"
      },
      "outputs": [
        {
          "name": "stdout",
          "output_type": "stream",
          "text": [
            "True\n"
          ]
        }
      ],
      "source": [
        "print(4 != 3)"
      ]
    },
    {
      "cell_type": "code",
      "execution_count": 17,
      "metadata": {
        "colab": {
          "base_uri": "https://localhost:8080/"
        },
        "id": "rTbWTZES5Wfj",
        "outputId": "d8b47e4e-73de-4f79-86e5-c6c06b78b2fc"
      },
      "outputs": [
        {
          "name": "stdout",
          "output_type": "stream",
          "text": [
            "Seneye tekrar gel\n"
          ]
        }
      ],
      "source": [
        "yas = 15\n",
        "\n",
        "if (yas >= 18):\n",
        "    a = 3\n",
        "    b = a + 5\n",
        "    print(\"Ehliyet alabilirsin\")\n",
        "    print(b)\n",
        "else:\n",
        "    print(\"Seneye tekrar gel\")"
      ]
    },
    {
      "cell_type": "code",
      "execution_count": 18,
      "metadata": {
        "colab": {
          "base_uri": "https://localhost:8080/"
        },
        "id": "aeEG3Ht3571p",
        "outputId": "6ea49092-9760-4783-f393-2c6004354e58"
      },
      "outputs": [
        {
          "data": {
            "text/plain": [
              "84"
            ]
          },
          "execution_count": 18,
          "metadata": {},
          "output_type": "execute_result"
        }
      ],
      "source": [
        "(3 + 4) * (7 + 5)"
      ]
    },
    {
      "cell_type": "code",
      "execution_count": 19,
      "metadata": {
        "colab": {
          "base_uri": "https://localhost:8080/"
        },
        "id": "ExqiG7yB6lqL",
        "outputId": "c57a1d45-b0d4-4513-e46f-af95123e46fa"
      },
      "outputs": [
        {
          "name": "stdout",
          "output_type": "stream",
          "text": [
            "[1, 3, 5, 7, 9, 11]\n"
          ]
        }
      ],
      "source": [
        "my_list = [1, 3, 5, 7, 9, 11]\n",
        "print(my_list)"
      ]
    },
    {
      "cell_type": "code",
      "execution_count": 20,
      "metadata": {
        "colab": {
          "base_uri": "https://localhost:8080/"
        },
        "id": "Je8apQZe6zZQ",
        "outputId": "82cf7c56-064c-44a0-b908-55abc0baf6fe"
      },
      "outputs": [
        {
          "name": "stdout",
          "output_type": "stream",
          "text": [
            "[1, 3, 5, 7, 9, 11, 13]\n"
          ]
        }
      ],
      "source": [
        "my_list.append(13)\n",
        "print(my_list)"
      ]
    },
    {
      "cell_type": "code",
      "execution_count": 21,
      "metadata": {
        "colab": {
          "base_uri": "https://localhost:8080/"
        },
        "id": "tgEGXB2H6_a9",
        "outputId": "fcec846a-7345-4afd-9836-0cc2a439c14f"
      },
      "outputs": [
        {
          "name": "stdout",
          "output_type": "stream",
          "text": [
            "[4, 7]\n"
          ]
        }
      ],
      "source": [
        "diger_liste = []\n",
        "diger_liste.append(4)\n",
        "diger_liste.append(7)\n",
        "\n",
        "print(diger_liste)"
      ]
    },
    {
      "cell_type": "code",
      "execution_count": 22,
      "metadata": {
        "colab": {
          "base_uri": "https://localhost:8080/"
        },
        "id": "ovQtOsAF7KRC",
        "outputId": "b130dc28-ca8f-43a0-fd01-535a21ed784f"
      },
      "outputs": [
        {
          "name": "stdout",
          "output_type": "stream",
          "text": [
            "1\n",
            "3\n",
            "5\n",
            "7\n",
            "9\n",
            "11\n",
            "13\n"
          ]
        }
      ],
      "source": [
        "# iterasyon\n",
        "\n",
        "\"\"\"\n",
        "bu da\n",
        "çok satırlı yorum\n",
        "\"\"\"\n",
        "\n",
        "for x in my_list:  # my_list içindeki tüm elemanları geziyoruz\n",
        "    print(x)  # her elemanı tyek tek print ediyoruz"
      ]
    },
    {
      "cell_type": "code",
      "execution_count": 23,
      "metadata": {
        "colab": {
          "base_uri": "https://localhost:8080/"
        },
        "id": "V4VmTTa-AXbt",
        "outputId": "b1524081-16cd-45b6-8c46-16952b064797"
      },
      "outputs": [
        {
          "name": "stdout",
          "output_type": "stream",
          "text": [
            "0\n",
            "1\n",
            "2\n",
            "3\n",
            "4\n"
          ]
        }
      ],
      "source": [
        "for a in range(5):\n",
        "    print(a)"
      ]
    },
    {
      "cell_type": "code",
      "execution_count": 24,
      "metadata": {
        "id": "h1QCpQlFAhes"
      },
      "outputs": [],
      "source": [
        "def topla(a, b):\n",
        "    toplam = a + b\n",
        "    return toplam"
      ]
    },
    {
      "cell_type": "code",
      "execution_count": 25,
      "metadata": {
        "colab": {
          "base_uri": "https://localhost:8080/"
        },
        "id": "hmD54qEuBEO1",
        "outputId": "0dcc39ae-2e7c-4622-e9ca-7789e8800f05"
      },
      "outputs": [
        {
          "name": "stdout",
          "output_type": "stream",
          "text": [
            "8\n"
          ]
        }
      ],
      "source": [
        "c = topla(3, 5)\n",
        "print(c)"
      ]
    },
    {
      "cell_type": "code",
      "execution_count": 26,
      "metadata": {
        "id": "y9L7Z2AkBgUl"
      },
      "outputs": [],
      "source": [
        "def karelerini_topla(a, b):\n",
        "    \"\"\"\n",
        "    bu fonksiyon a^2 + b^2'yi hesaplar\n",
        "    ve sonucu döndürür\n",
        "    \"\"\"\n",
        "    # return a ** 2 + b ** 2\n",
        "\n",
        "    a_nin_karesi = a ** 2\n",
        "    b_nin_karesi = b ** 2\n",
        "    toplam = a_nin_karesi + b_nin_karesi\n",
        "    return toplam"
      ]
    },
    {
      "cell_type": "code",
      "execution_count": 27,
      "metadata": {
        "colab": {
          "base_uri": "https://localhost:8080/"
        },
        "id": "BmjphVE9CJ7g",
        "outputId": "0ef860d0-bbf6-4e93-b35a-c382b9f48d3b"
      },
      "outputs": [
        {
          "data": {
            "text/plain": [
              "25"
            ]
          },
          "execution_count": 27,
          "metadata": {},
          "output_type": "execute_result"
        }
      ],
      "source": [
        "karelerini_topla(3, 4)"
      ]
    },
    {
      "cell_type": "code",
      "execution_count": 28,
      "metadata": {
        "colab": {
          "base_uri": "https://localhost:8080/"
        },
        "id": "HJcFp-_JCL0-",
        "outputId": "f55aeb2b-3a8c-44b0-8120-cdeaf088c335"
      },
      "outputs": [
        {
          "name": "stdout",
          "output_type": "stream",
          "text": [
            "True\n"
          ]
        }
      ],
      "source": [
        "def kucuk_mu(a, b):\n",
        "    \"\"\"\n",
        "    a, b'den küçükse True; değilse False return eder\n",
        "    \"\"\"\n",
        "    sonuc = False\n",
        "    if a < b:\n",
        "        sonuc = True\n",
        "\n",
        "    return sonuc\n",
        "\n",
        "\n",
        "print(kucuk_mu(7, 9))"
      ]
    },
    {
      "cell_type": "code",
      "execution_count": 29,
      "metadata": {
        "colab": {
          "base_uri": "https://localhost:8080/"
        },
        "id": "00xmY7qBDXbd",
        "outputId": "faf44a97-8a7a-415b-c1a7-1433526d3061"
      },
      "outputs": [
        {
          "name": "stdout",
          "output_type": "stream",
          "text": [
            "10\n"
          ]
        }
      ],
      "source": [
        "def n_e_kadar_topla(n):\n",
        "    \"\"\"\n",
        "    1'den n'e kadar tüm tam sayıları toplar.\n",
        "    Ör: n = 4 -> 1 + 2 + 3 + 4\n",
        "    \"\"\"\n",
        "    toplam = 0\n",
        "    for sayi in range(n+1):\n",
        "        toplam = toplam + sayi\n",
        "\n",
        "    return toplam\n",
        "\n",
        "\n",
        "print(n_e_kadar_topla(4))"
      ]
    },
    {
      "cell_type": "code",
      "execution_count": 30,
      "metadata": {
        "colab": {
          "base_uri": "https://localhost:8080/"
        },
        "id": "i5NeUjH1GkXL",
        "outputId": "f8a24fdf-dc28-49cc-e189-100dcf05e238"
      },
      "outputs": [
        {
          "name": "stdout",
          "output_type": "stream",
          "text": [
            "3\n",
            "4\n",
            "5\n",
            "6\n"
          ]
        }
      ],
      "source": [
        "for i in range(3, 7):\n",
        "    print(i)"
      ]
    },
    {
      "cell_type": "code",
      "execution_count": 31,
      "metadata": {
        "colab": {
          "base_uri": "https://localhost:8080/"
        },
        "id": "Su2_ZY82G_2-",
        "outputId": "73c2619f-604c-48db-ed08-9e4b7155a4be"
      },
      "outputs": [
        {
          "name": "stdout",
          "output_type": "stream",
          "text": [
            "5\n",
            "6\n",
            "7\n",
            "8\n",
            "9\n",
            "10\n",
            "45\n"
          ]
        }
      ],
      "source": [
        "# 5'ten 10'a kadarki sayıların toplamı\n",
        "\n",
        "toplam = 0\n",
        "for n in range(5, 11):\n",
        "    print(n)\n",
        "    toplam = toplam + n\n",
        "\n",
        "print(toplam)"
      ]
    },
    {
      "cell_type": "markdown",
      "metadata": {},
      "source": [
        "* bir sayinin çift olup olmadığını hesaplayan bir fonksiyon.\n",
        "  Ör: cift_mi(4) -> True\n",
        "  cift_mi(7) -> False\n",
        "\n",
        "* 1'den n'e kadarki tek sayıları toplayınız. Ör: n ? 50 -> 1 + 3 + 5 + ... + 49\n",
        "\n",
        "* 1'den n'e kadarki 3'ün tam katı olan sayıları toplayınız. Ör: n ? 50 -> 3 + 6 + ... + 48"
      ]
    },
    {
      "cell_type": "code",
      "execution_count": null,
      "metadata": {
        "id": "9gbd5YpXHPug"
      },
      "outputs": [],
      "source": [
        "# Çözümler:\n"
      ]
    }
  ],
  "metadata": {
    "colab": {
      "provenance": []
    },
    "kernelspec": {
      "display_name": "mlenv",
      "language": "python",
      "name": "python3"
    },
    "language_info": {
      "codemirror_mode": {
        "name": "ipython",
        "version": 3
      },
      "file_extension": ".py",
      "mimetype": "text/x-python",
      "name": "python",
      "nbconvert_exporter": "python",
      "pygments_lexer": "ipython3",
      "version": "3.12.2"
    }
  },
  "nbformat": 4,
  "nbformat_minor": 0
}
