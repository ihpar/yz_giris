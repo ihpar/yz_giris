{
  "cells": [
    {
      "cell_type": "code",
      "execution_count": 1,
      "metadata": {
        "colab": {
          "base_uri": "https://localhost:8080/"
        },
        "id": "iB8NNw6o1U9w",
        "outputId": "08650c56-6193-466e-d2d8-978d53355141"
      },
      "outputs": [
        {
          "name": "stdout",
          "output_type": "stream",
          "text": [
            "a\n",
            "b\n"
          ]
        }
      ],
      "source": [
        "\"\"\"\n",
        "w:4, h:3\n",
        "\n",
        "****\n",
        "****\n",
        "****\n",
        "\n",
        "\"\"\"\n",
        "\n",
        "print(\"a\")\n",
        "print(\"b\")"
      ]
    },
    {
      "cell_type": "code",
      "execution_count": 2,
      "metadata": {
        "colab": {
          "base_uri": "https://localhost:8080/"
        },
        "id": "ImewJKbn2aWG",
        "outputId": "bee52bfd-3867-4baa-ef15-2c0d46bc5ec4"
      },
      "outputs": [
        {
          "name": "stdout",
          "output_type": "stream",
          "text": [
            "*\n",
            "*\n",
            "*\n",
            "*\n"
          ]
        }
      ],
      "source": [
        "# ****\n",
        "print(\"*\")\n",
        "print(\"*\")\n",
        "print(\"*\")\n",
        "print(\"*\")"
      ]
    },
    {
      "cell_type": "code",
      "execution_count": 3,
      "metadata": {
        "colab": {
          "base_uri": "https://localhost:8080/"
        },
        "id": "UE5Cg4ju24Br",
        "outputId": "7d6d6d39-91a9-400c-b223-115596721946"
      },
      "outputs": [
        {
          "name": "stdout",
          "output_type": "stream",
          "text": [
            "* * * *\n"
          ]
        }
      ],
      "source": [
        "# ****\n",
        "print(\"*\", end=\" \")\n",
        "print(\"*\", end=\" \")\n",
        "print(\"*\", end=\" \")\n",
        "print(\"*\")"
      ]
    },
    {
      "cell_type": "code",
      "execution_count": null,
      "metadata": {
        "colab": {
          "base_uri": "https://localhost:8080/"
        },
        "id": "IWpsdkAI3R2E",
        "outputId": "f54e002b-99e7-4127-f789-d571ef08fed1"
      },
      "outputs": [
        {
          "name": "stdout",
          "output_type": "stream",
          "text": [
            "* * * * "
          ]
        }
      ],
      "source": [
        "for i in range(4):\n",
        "    print(\"*\", end=\" \")"
      ]
    },
    {
      "cell_type": "code",
      "execution_count": null,
      "metadata": {
        "colab": {
          "base_uri": "https://localhost:8080/"
        },
        "id": "oxfdO4ww3jXd",
        "outputId": "e2165d25-4b5e-4cdd-a7a8-285536d50350"
      },
      "outputs": [
        {
          "name": "stdout",
          "output_type": "stream",
          "text": [
            "0 0\n",
            "0 1\n",
            "0 2\n",
            "0 3\n",
            "1 0\n",
            "1 1\n",
            "1 2\n",
            "1 3\n",
            "2 0\n",
            "2 1\n",
            "2 2\n",
            "2 3\n"
          ]
        }
      ],
      "source": [
        "for i in range(3):\n",
        "    for j in range(4):\n",
        "        print(i, j)"
      ]
    },
    {
      "cell_type": "code",
      "execution_count": null,
      "metadata": {
        "colab": {
          "base_uri": "https://localhost:8080/"
        },
        "id": "wYYmVk9O4RaV",
        "outputId": "36066ef3-a348-44f7-f809-33bc28ca70f6"
      },
      "outputs": [
        {
          "name": "stdout",
          "output_type": "stream",
          "text": [
            "* * * * \n",
            "* * * * \n",
            "* * * * \n"
          ]
        }
      ],
      "source": [
        "for i in range(3):  # satır sayısını\n",
        "    for j in range(4):  # satır uzunluğu\n",
        "        print(\"*\", end=\" \")\n",
        "\n",
        "    print(\"\")"
      ]
    },
    {
      "cell_type": "code",
      "execution_count": null,
      "metadata": {
        "colab": {
          "base_uri": "https://localhost:8080/"
        },
        "id": "hdCXbjyf5TYk",
        "outputId": "c3b3ce40-2567-427f-eb3c-a541857adf35"
      },
      "outputs": [
        {
          "name": "stdout",
          "output_type": "stream",
          "text": [
            "1\n",
            "3\n",
            "5\n",
            "7\n"
          ]
        }
      ],
      "source": [
        "my_list = [1, 3, 5, 7]\n",
        "\n",
        "for eleman in my_list:\n",
        "    print(eleman)"
      ]
    },
    {
      "cell_type": "code",
      "execution_count": 9,
      "metadata": {
        "colab": {
          "base_uri": "https://localhost:8080/"
        },
        "id": "U0QzabF25fKz",
        "outputId": "ffc9eaee-c362-41d1-c439-c467a3679a2b"
      },
      "outputs": [
        {
          "data": {
            "text/plain": [
              "1"
            ]
          },
          "execution_count": 9,
          "metadata": {},
          "output_type": "execute_result"
        }
      ],
      "source": [
        "my_list[0]"
      ]
    },
    {
      "cell_type": "code",
      "execution_count": 10,
      "metadata": {
        "colab": {
          "base_uri": "https://localhost:8080/"
        },
        "id": "jpPi2Ooa6Fyu",
        "outputId": "5135ac5d-bc49-4caa-9259-0b4afba8308b"
      },
      "outputs": [
        {
          "data": {
            "text/plain": [
              "7"
            ]
          },
          "execution_count": 10,
          "metadata": {},
          "output_type": "execute_result"
        }
      ],
      "source": [
        "my_list[3]"
      ]
    },
    {
      "cell_type": "code",
      "execution_count": null,
      "metadata": {
        "colab": {
          "base_uri": "https://localhost:8080/"
        },
        "id": "T8vCT3pJ6K6K",
        "outputId": "d4b29dd4-94d8-44ba-fd75-4eabe7835c9b"
      },
      "outputs": [
        {
          "name": "stdout",
          "output_type": "stream",
          "text": [
            "orijinal marix:\n",
            "[[3, 2, 1, 5], [1, 3, 5, 2], [9, 1, 1, 7]]\n",
            "---------\n",
            "değiştirilmiş mat: [[1, 1], [2, 2]]\n"
          ]
        }
      ],
      "source": [
        "mat = [[3, 2, 1, 5],\n",
        "       [1, 3, 5, 2],\n",
        "       [9, 1, 1, 7]]\n",
        "print(\"orijinal marix:\")\n",
        "print(mat)\n",
        "\n",
        "mat = [[1, 1], [2, 2]]\n",
        "\n",
        "print(\"---------\")\n",
        "print(\"değiştirilmiş mat:\", mat)"
      ]
    },
    {
      "cell_type": "code",
      "execution_count": null,
      "metadata": {
        "colab": {
          "base_uri": "https://localhost:8080/"
        },
        "id": "bgu4lHgF62_J",
        "outputId": "e6425f89-57c0-4683-88f3-7b62b9687edb"
      },
      "outputs": [
        {
          "name": "stdout",
          "output_type": "stream",
          "text": [
            "40\n"
          ]
        }
      ],
      "source": [
        "mat = [[3, 2, 1, 5],\n",
        "       [1, 3, 5, 2],\n",
        "       [9, 1, 1, 7]]\n",
        "\n",
        "toplam = 0\n",
        "for satir in mat:  # matrisin satırlarını gezme\n",
        "    for el in satir:\n",
        "        toplam = toplam + el\n",
        "\n",
        "print(toplam)"
      ]
    },
    {
      "cell_type": "code",
      "execution_count": null,
      "metadata": {
        "id": "iW7AGM736-U9"
      },
      "outputs": [],
      "source": []
    }
  ],
  "metadata": {
    "colab": {
      "provenance": []
    },
    "kernelspec": {
      "display_name": "mlenv",
      "language": "python",
      "name": "python3"
    },
    "language_info": {
      "name": "python",
      "version": "3.12.2"
    }
  },
  "nbformat": 4,
  "nbformat_minor": 0
}
